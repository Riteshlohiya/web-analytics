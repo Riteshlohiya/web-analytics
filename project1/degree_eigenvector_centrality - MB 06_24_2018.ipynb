{
 "cells": [
  {
   "cell_type": "markdown",
   "metadata": {},
   "source": [
    "## Week 2 Project 1:\n",
    "## CUNY MSDS DATA620 - Web Analytics\n",
    "---\n",
    "### Team5: Christopher Estevez, Meaghan Burke, Rickidon Singh,  Ritesh Lohiya, Rose Koh\n",
    "### 06/25/2018 (due date)\n",
    "##### python version: 2.7\n",
    "---\n",
    "\n",
    "## Degree and Eigenvector centrality\n",
    "\n",
    "For your first project, you are asked to\n",
    "\n",
    "    1.\tIdentify and load a network dataset that has some categorical information available for each node.\n",
    "\t2.\tFor each of the nodes in the dataset, calculate degree centrality and eigenvector centrality.\n",
    "\t3.\tCompare your centrality measures across your categorical groups.\n",
    "\n",
    "For example, using the dataset from a study of romantic relationships among high school students in Columbus, Ohio [http://researchnews.osu.edu/archive/chains.html], you might want to determine if there are any differences in your calculated centrality measures between the two sexes.  You might use a t-test or another statistical measure to support your findings.\n",
    "\n",
    "You may work in a small group.  Your project should be delivered in an IPython Notebook, and posted in GitHub.  Your project is due end of day Monday 6/25. You and your team should created a video presentation about your project. You should be ready to present your project in our Meet-up on Tuesday, June 26th. "
   ]
  },
  {
   "cell_type": "markdown",
   "metadata": {},
   "source": [
    "## 1. Identify Data:\n",
    "\n",
    "The group identified data at source: `http://www-personal.umich.edu/~mejn/netdata/`.\n",
    "\n",
    "The **Books about US politics** dataset has the capacity for centrality metrics as well as a good amount of categorical data for nodes.\n",
    "\n",
    "Each nodes has value of `l,n,c` which is `liberal, neutral, conservative`\n"
   ]
  },
  {
   "cell_type": "markdown",
   "metadata": {},
   "source": [
    "## 2. Load & explore the data."
   ]
  },
  {
   "cell_type": "code",
   "execution_count": 168,
   "metadata": {
    "collapsed": true
   },
   "outputs": [],
   "source": [
    "import networkx as nx\n",
    "import pandas as pd\n",
    "import matplotlib.pyplot as plt\n",
    "from matplotlib import style\n",
    "import seaborn as sns\n",
    "style.use('fivethirtyeight')\n",
    "%matplotlib inline"
   ]
  },
  {
   "cell_type": "code",
   "execution_count": 169,
   "metadata": {
    "collapsed": true
   },
   "outputs": [],
   "source": [
    "G = nx.read_gml(\"data/polbooks/polbooks.gml\")"
   ]
  },
  {
   "cell_type": "markdown",
   "metadata": {},
   "source": [
    "#### A) Dimensions of the loaded network.\n",
    "- Counts of nodes & edges\n",
    "- maximum diameter of the network"
   ]
  },
  {
   "cell_type": "code",
   "execution_count": 170,
   "metadata": {},
   "outputs": [
    {
     "name": "stdout",
     "output_type": "stream",
     "text": [
      "Name: \n",
      "Type: Graph\n",
      "Number of nodes: 105\n",
      "Number of edges: 441\n",
      "Average degree:   8.4000\n"
     ]
    }
   ],
   "source": [
    "print(nx.info(G))"
   ]
  },
  {
   "cell_type": "code",
   "execution_count": 241,
   "metadata": {},
   "outputs": [
    {
     "data": {
      "text/plain": [
       "7"
      ]
     },
     "execution_count": 241,
     "metadata": {},
     "output_type": "execute_result"
    }
   ],
   "source": [
    "nx.diameter(G)"
   ]
  },
  {
   "cell_type": "markdown",
   "metadata": {},
   "source": [
    "#### B) Exploration of categorical data.\n",
    "- Loop through nodes and extract the political orientation of the books \n",
    "- Summarize the political landscape "
   ]
  },
  {
   "cell_type": "code",
   "execution_count": 243,
   "metadata": {},
   "outputs": [],
   "source": [
    "node_df = pd.DataFrame(list(G.nodes(data = True)))\n",
    "node_df.rename(columns= {0:'Nodes', 1: 'Values'}, inplace = True)\n",
    "node_df['Political_View'] = ''\n",
    "dict_view  = { 'l':'Liberal',\n",
    "             'c': 'Conservative',\n",
    "             'n': 'Neutral'}\n",
    "for x in range(len(node_df['Values'])):\n",
    "    pol_view = node_df['Values'][x]['value'] \n",
    "    node_df['Political_View'][x] = dict_view[pol_view]\n",
    "node_df.drop(['Values'], axis =1, inplace = True)"
   ]
  },
  {
   "cell_type": "code",
   "execution_count": 244,
   "metadata": {},
   "outputs": [
    {
     "data": {
      "text/html": [
       "<div>\n",
       "<style>\n",
       "    .dataframe thead tr:only-child th {\n",
       "        text-align: right;\n",
       "    }\n",
       "\n",
       "    .dataframe thead th {\n",
       "        text-align: left;\n",
       "    }\n",
       "\n",
       "    .dataframe tbody tr th {\n",
       "        vertical-align: top;\n",
       "    }\n",
       "</style>\n",
       "<table border=\"1\" class=\"dataframe\">\n",
       "  <thead>\n",
       "    <tr style=\"text-align: right;\">\n",
       "      <th></th>\n",
       "      <th>Political_View</th>\n",
       "      <th>Nodes</th>\n",
       "    </tr>\n",
       "  </thead>\n",
       "  <tbody>\n",
       "    <tr>\n",
       "      <th>0</th>\n",
       "      <td>Conservative</td>\n",
       "      <td>49</td>\n",
       "    </tr>\n",
       "    <tr>\n",
       "      <th>1</th>\n",
       "      <td>Liberal</td>\n",
       "      <td>43</td>\n",
       "    </tr>\n",
       "    <tr>\n",
       "      <th>2</th>\n",
       "      <td>Neutral</td>\n",
       "      <td>13</td>\n",
       "    </tr>\n",
       "  </tbody>\n",
       "</table>\n",
       "</div>"
      ],
      "text/plain": [
       "  Political_View  Nodes\n",
       "0   Conservative     49\n",
       "1        Liberal     43\n",
       "2        Neutral     13"
      ]
     },
     "execution_count": 244,
     "metadata": {},
     "output_type": "execute_result"
    }
   ],
   "source": [
    "node_df.groupby(['Political_View']).count().reset_index()"
   ]
  },
  {
   "cell_type": "code",
   "execution_count": 176,
   "metadata": {},
   "outputs": [
    {
     "data": {
      "text/plain": [
       "7"
      ]
     },
     "execution_count": 176,
     "metadata": {},
     "output_type": "execute_result"
    }
   ],
   "source": []
  },
  {
   "cell_type": "markdown",
   "metadata": {},
   "source": [
    "## 3. Calculate degree centrality and eigenvector centrality."
   ]
  },
  {
   "cell_type": "markdown",
   "metadata": {},
   "source": [
    "#### A) Degree: the number of edges adjacent to each node.\n",
    " - Apply .degree() to each node \n",
    " - Merge node metadata \n",
    " - Display top 10 nodes \n",
    " - Group connection by political view "
   ]
  },
  {
   "cell_type": "code",
   "execution_count": 245,
   "metadata": {
    "collapsed": true
   },
   "outputs": [],
   "source": [
    "degree_values =[]\n",
    "for d in G.degree():\n",
    "    degree_values.append(d)\n",
    "degree_centrality = pd.DataFrame(degree_values)\n",
    "degree_centrality.rename(columns ={0:'Nodes', 1: 'Connection_Num'}, inplace = True)\n",
    "degree_centrality = degree_centrality.merge(node_df, how = 'left', on = ['Nodes'])"
   ]
  },
  {
   "cell_type": "code",
   "execution_count": 246,
   "metadata": {},
   "outputs": [
    {
     "data": {
      "text/html": [
       "<div>\n",
       "<style>\n",
       "    .dataframe thead tr:only-child th {\n",
       "        text-align: right;\n",
       "    }\n",
       "\n",
       "    .dataframe thead th {\n",
       "        text-align: left;\n",
       "    }\n",
       "\n",
       "    .dataframe tbody tr th {\n",
       "        vertical-align: top;\n",
       "    }\n",
       "</style>\n",
       "<table border=\"1\" class=\"dataframe\">\n",
       "  <thead>\n",
       "    <tr style=\"text-align: right;\">\n",
       "      <th></th>\n",
       "      <th>Nodes</th>\n",
       "      <th>Connection_Num</th>\n",
       "      <th>Political_View</th>\n",
       "    </tr>\n",
       "  </thead>\n",
       "  <tbody>\n",
       "    <tr>\n",
       "      <th>34</th>\n",
       "      <td>Off with Their Heads</td>\n",
       "      <td>25</td>\n",
       "      <td>Conservative</td>\n",
       "    </tr>\n",
       "    <tr>\n",
       "      <th>70</th>\n",
       "      <td>A National Party No More</td>\n",
       "      <td>25</td>\n",
       "      <td>Conservative</td>\n",
       "    </tr>\n",
       "    <tr>\n",
       "      <th>23</th>\n",
       "      <td>Losing Bin Laden</td>\n",
       "      <td>23</td>\n",
       "      <td>Conservative</td>\n",
       "    </tr>\n",
       "    <tr>\n",
       "      <th>30</th>\n",
       "      <td>Bushwhacked</td>\n",
       "      <td>23</td>\n",
       "      <td>Liberal</td>\n",
       "    </tr>\n",
       "    <tr>\n",
       "      <th>99</th>\n",
       "      <td>American Dynasty</td>\n",
       "      <td>22</td>\n",
       "      <td>Liberal</td>\n",
       "    </tr>\n",
       "    <tr>\n",
       "      <th>75</th>\n",
       "      <td>The Great Unraveling</td>\n",
       "      <td>21</td>\n",
       "      <td>Liberal</td>\n",
       "    </tr>\n",
       "    <tr>\n",
       "      <th>38</th>\n",
       "      <td>Big Lies</td>\n",
       "      <td>21</td>\n",
       "      <td>Liberal</td>\n",
       "    </tr>\n",
       "    <tr>\n",
       "      <th>9</th>\n",
       "      <td>The Price of Loyalty</td>\n",
       "      <td>20</td>\n",
       "      <td>Liberal</td>\n",
       "    </tr>\n",
       "    <tr>\n",
       "      <th>1</th>\n",
       "      <td>Arrogance</td>\n",
       "      <td>18</td>\n",
       "      <td>Conservative</td>\n",
       "    </tr>\n",
       "    <tr>\n",
       "      <th>42</th>\n",
       "      <td>Legacy</td>\n",
       "      <td>18</td>\n",
       "      <td>Conservative</td>\n",
       "    </tr>\n",
       "  </tbody>\n",
       "</table>\n",
       "</div>"
      ],
      "text/plain": [
       "                       Nodes  Connection_Num Political_View\n",
       "34      Off with Their Heads              25   Conservative\n",
       "70  A National Party No More              25   Conservative\n",
       "23          Losing Bin Laden              23   Conservative\n",
       "30               Bushwhacked              23        Liberal\n",
       "99          American Dynasty              22        Liberal\n",
       "75      The Great Unraveling              21        Liberal\n",
       "38                  Big Lies              21        Liberal\n",
       "9       The Price of Loyalty              20        Liberal\n",
       "1                  Arrogance              18   Conservative\n",
       "42                    Legacy              18   Conservative"
      ]
     },
     "execution_count": 246,
     "metadata": {},
     "output_type": "execute_result"
    }
   ],
   "source": [
    "degree_centrality.sort_values(['Connection_Num'], ascending= False).head(10)"
   ]
  },
  {
   "cell_type": "code",
   "execution_count": 247,
   "metadata": {},
   "outputs": [
    {
     "data": {
      "text/html": [
       "<div>\n",
       "<style>\n",
       "    .dataframe thead tr:only-child th {\n",
       "        text-align: right;\n",
       "    }\n",
       "\n",
       "    .dataframe thead th {\n",
       "        text-align: left;\n",
       "    }\n",
       "\n",
       "    .dataframe tbody tr th {\n",
       "        vertical-align: top;\n",
       "    }\n",
       "</style>\n",
       "<table border=\"1\" class=\"dataframe\">\n",
       "  <thead>\n",
       "    <tr style=\"text-align: right;\">\n",
       "      <th></th>\n",
       "      <th>Political_View</th>\n",
       "      <th>Connection_Num</th>\n",
       "    </tr>\n",
       "  </thead>\n",
       "  <tbody>\n",
       "    <tr>\n",
       "      <th>0</th>\n",
       "      <td>Conservative</td>\n",
       "      <td>426</td>\n",
       "    </tr>\n",
       "    <tr>\n",
       "      <th>1</th>\n",
       "      <td>Liberal</td>\n",
       "      <td>380</td>\n",
       "    </tr>\n",
       "    <tr>\n",
       "      <th>2</th>\n",
       "      <td>Neutral</td>\n",
       "      <td>76</td>\n",
       "    </tr>\n",
       "  </tbody>\n",
       "</table>\n",
       "</div>"
      ],
      "text/plain": [
       "  Political_View  Connection_Num\n",
       "0   Conservative             426\n",
       "1        Liberal             380\n",
       "2        Neutral              76"
      ]
     },
     "execution_count": 247,
     "metadata": {},
     "output_type": "execute_result"
    }
   ],
   "source": [
    "degree_centrality.groupby(['Political_View']).sum().reset_index()"
   ]
  },
  {
   "cell_type": "markdown",
   "metadata": {},
   "source": [
    "#### B) Degree Centrality:  the fraction of nodes it is connected to a particular node\n",
    " - Apply nx.degree_centrality() to each node \n",
    " - Merge node metadata \n",
    " - Display top 10 nodes \n",
    " - Group connection by political view for mean centrality degree"
   ]
  },
  {
   "cell_type": "code",
   "execution_count": 233,
   "metadata": {},
   "outputs": [
    {
     "data": {
      "text/html": [
       "<div>\n",
       "<style>\n",
       "    .dataframe thead tr:only-child th {\n",
       "        text-align: right;\n",
       "    }\n",
       "\n",
       "    .dataframe thead th {\n",
       "        text-align: left;\n",
       "    }\n",
       "\n",
       "    .dataframe tbody tr th {\n",
       "        vertical-align: top;\n",
       "    }\n",
       "</style>\n",
       "<table border=\"1\" class=\"dataframe\">\n",
       "  <thead>\n",
       "    <tr style=\"text-align: right;\">\n",
       "      <th></th>\n",
       "      <th>Nodes</th>\n",
       "      <th>Centrality Degree</th>\n",
       "      <th>Political_View</th>\n",
       "    </tr>\n",
       "  </thead>\n",
       "  <tbody>\n",
       "    <tr>\n",
       "      <th>0</th>\n",
       "      <td>A National Party No More</td>\n",
       "      <td>0.240385</td>\n",
       "      <td>Conservative</td>\n",
       "    </tr>\n",
       "    <tr>\n",
       "      <th>1</th>\n",
       "      <td>Off with Their Heads</td>\n",
       "      <td>0.240385</td>\n",
       "      <td>Conservative</td>\n",
       "    </tr>\n",
       "    <tr>\n",
       "      <th>2</th>\n",
       "      <td>Losing Bin Laden</td>\n",
       "      <td>0.221154</td>\n",
       "      <td>Conservative</td>\n",
       "    </tr>\n",
       "    <tr>\n",
       "      <th>3</th>\n",
       "      <td>Bushwhacked</td>\n",
       "      <td>0.221154</td>\n",
       "      <td>Liberal</td>\n",
       "    </tr>\n",
       "    <tr>\n",
       "      <th>4</th>\n",
       "      <td>American Dynasty</td>\n",
       "      <td>0.211538</td>\n",
       "      <td>Liberal</td>\n",
       "    </tr>\n",
       "    <tr>\n",
       "      <th>5</th>\n",
       "      <td>The Great Unraveling</td>\n",
       "      <td>0.201923</td>\n",
       "      <td>Liberal</td>\n",
       "    </tr>\n",
       "    <tr>\n",
       "      <th>6</th>\n",
       "      <td>Big Lies</td>\n",
       "      <td>0.201923</td>\n",
       "      <td>Liberal</td>\n",
       "    </tr>\n",
       "    <tr>\n",
       "      <th>7</th>\n",
       "      <td>The Price of Loyalty</td>\n",
       "      <td>0.192308</td>\n",
       "      <td>Liberal</td>\n",
       "    </tr>\n",
       "    <tr>\n",
       "      <th>8</th>\n",
       "      <td>Legacy</td>\n",
       "      <td>0.173077</td>\n",
       "      <td>Conservative</td>\n",
       "    </tr>\n",
       "    <tr>\n",
       "      <th>9</th>\n",
       "      <td>Deliver Us from Evil</td>\n",
       "      <td>0.173077</td>\n",
       "      <td>Conservative</td>\n",
       "    </tr>\n",
       "  </tbody>\n",
       "</table>\n",
       "</div>"
      ],
      "text/plain": [
       "                      Nodes  Centrality Degree Political_View\n",
       "0  A National Party No More           0.240385   Conservative\n",
       "1      Off with Their Heads           0.240385   Conservative\n",
       "2          Losing Bin Laden           0.221154   Conservative\n",
       "3               Bushwhacked           0.221154        Liberal\n",
       "4          American Dynasty           0.211538        Liberal\n",
       "5      The Great Unraveling           0.201923        Liberal\n",
       "6                  Big Lies           0.201923        Liberal\n",
       "7      The Price of Loyalty           0.192308        Liberal\n",
       "8                    Legacy           0.173077   Conservative\n",
       "9      Deliver Us from Evil           0.173077   Conservative"
      ]
     },
     "execution_count": 233,
     "metadata": {},
     "output_type": "execute_result"
    }
   ],
   "source": [
    "degree_c = nx.degree_centrality(G)\n",
    "degree_c_df = pd.DataFrame([degree_c.values()], columns=degree_c.keys()).reset_index()\n",
    "degree_c_df = degree_c_df.sort_values(by=0, ascending=False, axis=1).T.reset_index()\n",
    "degree_c_df.rename(columns ={'index':'Nodes', 0: 'Centrality Degree'}, inplace = True)\n",
    "degree_c_df= degree_c_df.merge(node_df, how = 'left', on = ['Nodes'])\n",
    "degree_c_df.head(10)"
   ]
  },
  {
   "cell_type": "code",
   "execution_count": 238,
   "metadata": {},
   "outputs": [
    {
     "data": {
      "text/html": [
       "<div>\n",
       "<style>\n",
       "    .dataframe thead tr:only-child th {\n",
       "        text-align: right;\n",
       "    }\n",
       "\n",
       "    .dataframe thead th {\n",
       "        text-align: left;\n",
       "    }\n",
       "\n",
       "    .dataframe tbody tr th {\n",
       "        vertical-align: top;\n",
       "    }\n",
       "</style>\n",
       "<table border=\"1\" class=\"dataframe\">\n",
       "  <thead>\n",
       "    <tr style=\"text-align: right;\">\n",
       "      <th></th>\n",
       "      <th>Political_View</th>\n",
       "      <th>Centrality Degree</th>\n",
       "    </tr>\n",
       "  </thead>\n",
       "  <tbody>\n",
       "    <tr>\n",
       "      <th>0</th>\n",
       "      <td>Liberal</td>\n",
       "      <td>0.084973</td>\n",
       "    </tr>\n",
       "    <tr>\n",
       "      <th>1</th>\n",
       "      <td>Conservative</td>\n",
       "      <td>0.083595</td>\n",
       "    </tr>\n",
       "    <tr>\n",
       "      <th>2</th>\n",
       "      <td>Neutral</td>\n",
       "      <td>0.056213</td>\n",
       "    </tr>\n",
       "  </tbody>\n",
       "</table>\n",
       "</div>"
      ],
      "text/plain": [
       "  Political_View  Centrality Degree\n",
       "0        Liberal           0.084973\n",
       "1   Conservative           0.083595\n",
       "2        Neutral           0.056213"
      ]
     },
     "execution_count": 238,
     "metadata": {},
     "output_type": "execute_result"
    }
   ],
   "source": [
    "degree_c_df.groupby(['Political_View']).mean().sort_values('Centrality Degree', ascending = False).reset_index()"
   ]
  },
  {
   "cell_type": "markdown",
   "metadata": {},
   "source": [
    "#### c) Eigenvector centrality: computes the centrality for a node based on the centrality of its neighbors. \n",
    "  - Apply  nx.eigenvector_centrality_numpy() to each node \n",
    "  - Merge node metadata \n",
    "  - Display top 10 nodes \n",
    "  - Group connection by political view for mean eigenvector centrality degree"
   ]
  },
  {
   "cell_type": "code",
   "execution_count": 248,
   "metadata": {},
   "outputs": [
    {
     "data": {
      "text/html": [
       "<div>\n",
       "<style>\n",
       "    .dataframe thead tr:only-child th {\n",
       "        text-align: right;\n",
       "    }\n",
       "\n",
       "    .dataframe thead th {\n",
       "        text-align: left;\n",
       "    }\n",
       "\n",
       "    .dataframe tbody tr th {\n",
       "        vertical-align: top;\n",
       "    }\n",
       "</style>\n",
       "<table border=\"1\" class=\"dataframe\">\n",
       "  <thead>\n",
       "    <tr style=\"text-align: right;\">\n",
       "      <th></th>\n",
       "      <th>Nodes</th>\n",
       "      <th>Eigenvector Centrality</th>\n",
       "      <th>Political_View</th>\n",
       "    </tr>\n",
       "  </thead>\n",
       "  <tbody>\n",
       "    <tr>\n",
       "      <th>0</th>\n",
       "      <td>Bushwhacked</td>\n",
       "      <td>0.296946</td>\n",
       "      <td>Liberal</td>\n",
       "    </tr>\n",
       "    <tr>\n",
       "      <th>1</th>\n",
       "      <td>Big Lies</td>\n",
       "      <td>0.284135</td>\n",
       "      <td>Liberal</td>\n",
       "    </tr>\n",
       "    <tr>\n",
       "      <th>2</th>\n",
       "      <td>American Dynasty</td>\n",
       "      <td>0.270838</td>\n",
       "      <td>Liberal</td>\n",
       "    </tr>\n",
       "    <tr>\n",
       "      <th>3</th>\n",
       "      <td>The Price of Loyalty</td>\n",
       "      <td>0.258594</td>\n",
       "      <td>Liberal</td>\n",
       "    </tr>\n",
       "    <tr>\n",
       "      <th>4</th>\n",
       "      <td>The Great Unraveling</td>\n",
       "      <td>0.254886</td>\n",
       "      <td>Liberal</td>\n",
       "    </tr>\n",
       "    <tr>\n",
       "      <th>5</th>\n",
       "      <td>The Lies of George W. Bush</td>\n",
       "      <td>0.241950</td>\n",
       "      <td>Liberal</td>\n",
       "    </tr>\n",
       "    <tr>\n",
       "      <th>6</th>\n",
       "      <td>Worse Than Watergate</td>\n",
       "      <td>0.237598</td>\n",
       "      <td>Liberal</td>\n",
       "    </tr>\n",
       "    <tr>\n",
       "      <th>7</th>\n",
       "      <td>Plan of Attack</td>\n",
       "      <td>0.198185</td>\n",
       "      <td>Neutral</td>\n",
       "    </tr>\n",
       "    <tr>\n",
       "      <th>8</th>\n",
       "      <td>Lies and the Lying Liars Who Tell Them</td>\n",
       "      <td>0.189236</td>\n",
       "      <td>Liberal</td>\n",
       "    </tr>\n",
       "    <tr>\n",
       "      <th>9</th>\n",
       "      <td>Against All Enemies</td>\n",
       "      <td>0.186726</td>\n",
       "      <td>Liberal</td>\n",
       "    </tr>\n",
       "  </tbody>\n",
       "</table>\n",
       "</div>"
      ],
      "text/plain": [
       "                                    Nodes  Eigenvector Centrality  \\\n",
       "0                             Bushwhacked                0.296946   \n",
       "1                                Big Lies                0.284135   \n",
       "2                        American Dynasty                0.270838   \n",
       "3                    The Price of Loyalty                0.258594   \n",
       "4                    The Great Unraveling                0.254886   \n",
       "5              The Lies of George W. Bush                0.241950   \n",
       "6                    Worse Than Watergate                0.237598   \n",
       "7                          Plan of Attack                0.198185   \n",
       "8  Lies and the Lying Liars Who Tell Them                0.189236   \n",
       "9                     Against All Enemies                0.186726   \n",
       "\n",
       "  Political_View  \n",
       "0        Liberal  \n",
       "1        Liberal  \n",
       "2        Liberal  \n",
       "3        Liberal  \n",
       "4        Liberal  \n",
       "5        Liberal  \n",
       "6        Liberal  \n",
       "7        Neutral  \n",
       "8        Liberal  \n",
       "9        Liberal  "
      ]
     },
     "execution_count": 248,
     "metadata": {},
     "output_type": "execute_result"
    }
   ],
   "source": [
    "eigenvector_c = nx.eigenvector_centrality_numpy(G)\n",
    "eigen_c_df = pd.DataFrame([eigenvector_c.values()], columns=eigenvector_c.keys())\n",
    "eigen_c_df = eigen_c_df.sort_values(by=0, ascending=False, axis=1).T.reset_index()\n",
    "eigen_c_df.rename(columns ={'index':'Nodes', 0: 'Eigenvector Centrality'}, inplace = True)\n",
    "eigen_c_df= eigen_c_df.merge(node_df, how = 'left', on = ['Nodes'])\n",
    "eigen_c_df.head(10)"
   ]
  },
  {
   "cell_type": "code",
   "execution_count": 249,
   "metadata": {},
   "outputs": [
    {
     "data": {
      "text/html": [
       "<div>\n",
       "<style>\n",
       "    .dataframe thead tr:only-child th {\n",
       "        text-align: right;\n",
       "    }\n",
       "\n",
       "    .dataframe thead th {\n",
       "        text-align: left;\n",
       "    }\n",
       "\n",
       "    .dataframe tbody tr th {\n",
       "        vertical-align: top;\n",
       "    }\n",
       "</style>\n",
       "<table border=\"1\" class=\"dataframe\">\n",
       "  <thead>\n",
       "    <tr style=\"text-align: right;\">\n",
       "      <th></th>\n",
       "      <th>Political_View</th>\n",
       "      <th>Eigenvector Centrality</th>\n",
       "    </tr>\n",
       "  </thead>\n",
       "  <tbody>\n",
       "    <tr>\n",
       "      <th>0</th>\n",
       "      <td>Liberal</td>\n",
       "      <td>0.117151</td>\n",
       "    </tr>\n",
       "    <tr>\n",
       "      <th>1</th>\n",
       "      <td>Neutral</td>\n",
       "      <td>0.038171</td>\n",
       "    </tr>\n",
       "    <tr>\n",
       "      <th>2</th>\n",
       "      <td>Conservative</td>\n",
       "      <td>0.037308</td>\n",
       "    </tr>\n",
       "  </tbody>\n",
       "</table>\n",
       "</div>"
      ],
      "text/plain": [
       "  Political_View  Eigenvector Centrality\n",
       "0        Liberal                0.117151\n",
       "1        Neutral                0.038171\n",
       "2   Conservative                0.037308"
      ]
     },
     "execution_count": 249,
     "metadata": {},
     "output_type": "execute_result"
    }
   ],
   "source": [
    "eigen_c_df.groupby(['Political_View']).mean().sort_values('Eigenvector Centrality', ascending = False).reset_index()"
   ]
  },
  {
   "cell_type": "markdown",
   "metadata": {},
   "source": [
    "## 4. Draw network."
   ]
  },
  {
   "cell_type": "code",
   "execution_count": 250,
   "metadata": {
    "collapsed": true
   },
   "outputs": [],
   "source": [
    "# for each node in the graph\n",
    "node_color = []\n",
    "for node in G.nodes(data=True):\n",
    "    pol_view = node[1]['value']\n",
    "    if pol_view == 'c':\n",
    "        node_color.append('red')\n",
    "    elif pol_view == 'l':\n",
    "        node_color.append('blue')\n",
    "    elif pol_view == 'n':\n",
    "        node_color.append('green')\n"
   ]
  },
  {
   "cell_type": "code",
   "execution_count": 251,
   "metadata": {},
   "outputs": [
    {
     "data": {
      "image/png": "[encoded data removed]",
      "text/plain": [
       "<matplotlib.figure.Figure at 0xff22b70>"
      ]
     },
     "metadata": {},
     "output_type": "display_data"
    },
    {
     "data": {
      "text/plain": [
       "<matplotlib.figure.Figure at 0xea82128>"
      ]
     },
     "metadata": {},
     "output_type": "display_data"
    }
   ],
   "source": [
    "nx.draw(G, with_labels = False, node_size = 25,node_color=node_color)\n",
    "plt.show()\n",
    "plt.savefig(\"graph.png\", dpi=500)"
   ]
  },
  {
   "cell_type": "code",
   "execution_count": null,
   "metadata": {
    "collapsed": true
   },
   "outputs": [],
   "source": []
  }
 ],
 "metadata": {
  "kernelspec": {
   "display_name": "Python 2",
   "language": "python",
   "name": "python2"
  },
  "language_info": {
   "codemirror_mode": {
    "name": "ipython",
    "version": 2
   },
   "file_extension": ".py",
   "mimetype": "text/x-python",
   "name": "python",
   "nbconvert_exporter": "python",
   "pygments_lexer": "ipython2",
   "version": "2.7.14"
  }
 },
 "nbformat": 4,
 "nbformat_minor": 2
}
