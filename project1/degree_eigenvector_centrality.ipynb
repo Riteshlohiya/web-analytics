{
 "cells": [
  {
   "cell_type": "markdown",
   "metadata": {},
   "source": [
    "## CUNY MSDS DATA620 - Web Analytics\n",
    "\n",
    "---\n",
    "\n",
    "### Team5: Meaghan, Ricki, Ritesh, Rose Koh\n",
    "### 06/25/2018 (due date)\n",
    "---\n",
    "\n",
    "## Degree and Eigenvector centrality\n",
    "\n",
    "For your first project, you are asked to\n",
    "\n",
    "    1.\tIdentify and load a network dataset that has some categorical information available for each node.\n",
    "\t2.\tFor each of the nodes in the dataset, calculate degree centrality and eigenvector centrality.\n",
    "\t3.\tCompare your centrality measures across your categorical groups.\n",
    "\n",
    "For example, using the dataset from a study of romantic relationships among high school students in Columbus, Ohio [http://researchnews.osu.edu/archive/chains.html], you might want to determine if there are any differences in your calculated centrality measures between the two sexes.  You might use a t-test or another statistical measure to support your findings.\n",
    "\n",
    "You may work in a small group.  Your project should be delivered in an IPython Notebook, and posted in GitHub.  Your project is due end of day Monday 6/25. You and your team should created a video presentation about your project. You should be ready to present your project in our Meet-up on Tuesday, June 26th. "
   ]
  },
  {
   "cell_type": "code",
   "execution_count": null,
   "metadata": {},
   "outputs": [],
   "source": []
  }
 ],
 "metadata": {
  "kernelspec": {
   "display_name": "Python 3",
   "language": "python",
   "name": "python3"
  },
  "language_info": {
   "codemirror_mode": {
    "name": "ipython",
    "version": 3
   },
   "file_extension": ".py",
   "mimetype": "text/x-python",
   "name": "python",
   "nbconvert_exporter": "python",
   "pygments_lexer": "ipython3",
   "version": "3.6.2"
  }
 },
 "nbformat": 4,
 "nbformat_minor": 2
}
