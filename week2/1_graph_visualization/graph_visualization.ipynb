{
 "cells": [
  {
   "cell_type": "markdown",
   "metadata": {},
   "source": [
    "## CUNY MSDS DATA620 - Web Analytics\n",
    "\n",
    "---\n",
    "\n",
    "### Team5: Meaghan, Ricki, Ritesh, Rose Koh\n",
    "### 06/18/2018 (due date)\n",
    "---\n",
    "\n",
    "## Graph Visualization\n",
    "\n",
    "This week's assignment is to:\n",
    "\t1.\tLoad a graph database of your choosing from a text file or other source.  If you take a large network dataset from the web (such as fromhttps://snap.stanford.edu/data/), please feel free at this point to load just a small subset of the nodes and edges.\n",
    "\t2.\tCreate basic analysis on the graph, including the graph’s diameter, and at least one other metric of your choosing.  You may either code the functions by hand (to build your intuition and insight), or use functions in an existing package. \n",
    "\t3.\tUse a visualization tool of your choice (Neo4j, Gephi, etc.) to display information.\n",
    "\t4.\tPlease record a short video (~ 5 minutes), and submit a link to the video in advance of our meet-up.\n",
    "\n",
    "\n",
    "Submit your assignment as a link to the a Jupyter Notebook on Github by June 18th. In the notebook, include a link to your video and the name of the team members."
   ]
  },
  {
   "cell_type": "code",
   "execution_count": null,
   "metadata": {},
   "outputs": [],
   "source": []
  }
 ],
 "metadata": {
  "kernelspec": {
   "display_name": "Python 3",
   "language": "python",
   "name": "python3"
  },
  "language_info": {
   "codemirror_mode": {
    "name": "ipython",
    "version": 3
   },
   "file_extension": ".py",
   "mimetype": "text/x-python",
   "name": "python",
   "nbconvert_exporter": "python",
   "pygments_lexer": "ipython3",
   "version": "3.6.2"
  }
 },
 "nbformat": 4,
 "nbformat_minor": 2
}
