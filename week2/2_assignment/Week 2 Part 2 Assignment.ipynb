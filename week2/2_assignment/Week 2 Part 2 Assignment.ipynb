{
 "cells": [
  {
   "cell_type": "markdown",
   "metadata": {},
   "source": [
    "## Week 2 Part 2 Assignment:\n",
    "\n",
    "**Team 5: Chris, Meaghan, Ricki, Ritesh & Rose**\n",
    "\n",
    "### Team's Week 2 Task:\n",
    "Your task in this week’s assignment is to identify an interesting set of network data that is available on the web (either through web scraping or web APIs) that could be used for analyzing and comparing centrality measures across nodes.  As an additional constraint, there should be at least one categorical variable available for each node (such as “Male” or “Female”; “Republican”, “Democrat,” or “Undecided”, etc.)\n",
    "\n",
    "\n",
    "In addition to identifying your data source, you should create a high level plan that describes how you would load the data for analysis, and describe a hypothetical outcome that could be predicted from comparing degree centrality across categorical groups. \n",
    "\n",
    "\n"
   ]
  },
  {
   "cell_type": "markdown",
   "metadata": {},
   "source": [
    "### Identify Data:\n",
    "\n",
    "The group identified data at source: http://cnets.indiana.edu/resources/data-repository/, a large resource for network data. The **\" _\"insert dataset here\"_\" ** dataset has the capacity for centrality metrics as well as a good amount of categorical data for nodes.\n"
   ]
  },
  {
   "cell_type": "markdown",
   "metadata": {},
   "source": [
    "### Nodes:\n",
    "\n",
    "- A\n",
    "- B\n",
    "- C\n"
   ]
  },
  {
   "cell_type": "markdown",
   "metadata": {},
   "source": [
    "### Edges:\n",
    "\n",
    "- X\n",
    "- Y\n",
    "- Z\n"
   ]
  },
  {
   "cell_type": "markdown",
   "metadata": {},
   "source": [
    "### Centrality Measures:\n",
    "\n",
    "We could consider centrality in terms of the number of X per A, the number of Y of votes B or C. \n",
    "\n"
   ]
  },
  {
   "cell_type": "markdown",
   "metadata": {},
   "source": [
    "### Constraints:\n",
    "\n",
    "For a more workable dataset, the group will limit the number of nodes of the dataset for the top x to keep the number of relationships reasonable.\n",
    "\n"
   ]
  },
  {
   "cell_type": "markdown",
   "metadata": {},
   "source": [
    "### General Process:\n",
    "\n",
    "- Obtain the data\n",
    "- Examine various initial centrality measures of the data\n",
    "- Choose an actionable data subset\n",
    "- Process/clean the subsetted data\n",
    "- Use networkx to transform the data into a network \n",
    "- Visualize the network\n",
    "- Conduct an exploratory analysis of the network  \n",
    "- Calculate the centrality measure(s) \n",
    "- Submit findings "
   ]
  },
  {
   "cell_type": "code",
   "execution_count": null,
   "metadata": {
    "collapsed": true
   },
   "outputs": [],
   "source": []
  }
 ],
 "metadata": {
  "kernelspec": {
   "display_name": "Python 2",
   "language": "python",
   "name": "python2"
  },
  "language_info": {
   "codemirror_mode": {
    "name": "ipython",
    "version": 2
   },
   "file_extension": ".py",
   "mimetype": "text/x-python",
   "name": "python",
   "nbconvert_exporter": "python",
   "pygments_lexer": "ipython2",
   "version": "2.7.14"
  }
 },
 "nbformat": 4,
 "nbformat_minor": 2
}
